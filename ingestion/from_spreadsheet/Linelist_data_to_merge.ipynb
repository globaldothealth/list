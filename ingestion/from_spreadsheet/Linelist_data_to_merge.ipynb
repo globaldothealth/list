{
  "nbformat": 4,
  "nbformat_minor": 0,
  "metadata": {
    "colab": {
      "name": "Linelist data to merge",
      "provenance": [],
      "collapsed_sections": []
    },
    "kernelspec": {
      "name": "python3",
      "display_name": "Python 3"
    }
  },
  "cells": [
    {
      "cell_type": "markdown",
      "metadata": {
        "id": "1EVtxs8G0aVa"
      },
      "source": [
        "Get data"
      ]
    },
    {
      "cell_type": "code",
      "metadata": {
        "id": "3h6-qpEj0KYT",
        "colab": {
          "base_uri": "https://localhost:8080/"
        },
        "outputId": "eba0581c-3302-4975-bc3c-b4aaedfe5477"
      },
      "source": [
        "import matplotlib.pyplot as plt\n",
        "import numpy as np\n",
        "import pandas as pd\n",
        "import requests\n",
        "import tarfile\n",
        "import io\n",
        "\n",
        "url = \"https://github.com/beoutbreakprepared/nCoV2019/raw/master/latest_data/latestdata.tar.gz\"\n",
        "r = requests.get(url)\n",
        "tar = tarfile.open(fileobj=io.BytesIO(r.content), mode=\"r:*\")\n",
        "csv_path = tar.getnames()[0]\n",
        "allData = pd.read_csv(tar.extractfile(csv_path), header=0, sep=\",\", )\n",
        "allData.columns"
      ],
      "execution_count": null,
      "outputs": [
        {
          "output_type": "stream",
          "text": [
            "/usr/local/lib/python3.6/dist-packages/IPython/core/interactiveshell.py:2718: DtypeWarning: Columns (1,2,9,10,12,13,14,15,16,17,19,20,21,22,23,24,25,26,27,31,32) have mixed types.Specify dtype option on import or set low_memory=False.\n",
            "  interactivity=interactivity, compiler=compiler, result=result)\n"
          ],
          "name": "stderr"
        },
        {
          "output_type": "execute_result",
          "data": {
            "text/plain": [
              "Index(['ID', 'age', 'sex', 'city', 'province', 'country', 'latitude',\n",
              "       'longitude', 'geo_resolution', 'date_onset_symptoms',\n",
              "       'date_admission_hospital', 'date_confirmation', 'symptoms',\n",
              "       'lives_in_Wuhan', 'travel_history_dates', 'travel_history_location',\n",
              "       'reported_market_exposure', 'additional_information',\n",
              "       'chronic_disease_binary', 'chronic_disease', 'source',\n",
              "       'sequence_available', 'outcome', 'date_death_or_discharge',\n",
              "       'notes_for_discussion', 'location', 'admin3', 'admin2', 'admin1',\n",
              "       'country_new', 'admin_id', 'data_moderator_initials',\n",
              "       'travel_history_binary'],\n",
              "      dtype='object')"
            ]
          },
          "metadata": {
            "tags": []
          },
          "execution_count": 90
        }
      ]
    },
    {
      "cell_type": "markdown",
      "metadata": {
        "id": "usq3Yu2x2HKo"
      },
      "source": [
        "Get cases that have at least one detailed field"
      ]
    },
    {
      "cell_type": "code",
      "metadata": {
        "id": "pqnE9Wtp2Kkg",
        "colab": {
          "base_uri": "https://localhost:8080/"
        },
        "outputId": "0a79bd4e-a148-40b9-a970-745d8a16e766"
      },
      "source": [
        "from google.colab import files\n",
        "\n",
        "print(\"allData total cases: \" + str(allData.shape[0] - 1))\n",
        "detailedData = allData.replace('', np.nan)\n",
        "detailedData.dropna(how=\"all\", subset=['age', 'sex','date_onset_symptoms','date_admission_hospital', 'symptoms', \n",
        "                                                 'travel_history_dates', 'travel_history_location', 'chronic_disease',\n",
        "                                                 'sequence_available', 'outcome', 'date_death_or_discharge',], inplace=True)\n",
        "print(\"detailedData total cases: \" + str(detailedData.shape[0]))\n"
      ],
      "execution_count": null,
      "outputs": [
        {
          "output_type": "stream",
          "text": [
            "allData total cases: 2676310\n",
            "detailedData total cases: 960390\n"
          ],
          "name": "stdout"
        }
      ]
    },
    {
      "cell_type": "markdown",
      "metadata": {
        "id": "oSnB7KAoCg9V"
      },
      "source": [
        "Check how many detailed data cases don't have sources"
      ]
    },
    {
      "cell_type": "code",
      "metadata": {
        "id": "WDPpF6fM_ezu",
        "colab": {
          "base_uri": "https://localhost:8080/"
        },
        "outputId": "58ca2c09-bbbc-4bb6-8ca7-738c1cf45e2a"
      },
      "source": [
        "detailedDataWithoutSources = detailedData.dropna(how=\"any\", subset=['source', 'date_confirmation']).copy()\n",
        "print(\"detailedDataWithoutSources total cases: \" + str(detailedDataWithoutSources.shape[0]))"
      ],
      "execution_count": null,
      "outputs": [
        {
          "output_type": "stream",
          "text": [
            "detailedDataWithoutSources total cases: 406000\n"
          ],
          "name": "stdout"
        }
      ]
    },
    {
      "cell_type": "markdown",
      "metadata": {
        "id": "OqEN0gboGt4u"
      },
      "source": [
        "Convert date_confirmation to date type"
      ]
    },
    {
      "cell_type": "code",
      "metadata": {
        "id": "GuOrcscGGssA",
        "colab": {
          "base_uri": "https://localhost:8080/"
        },
        "outputId": "e4ab351b-69d9-45d2-8050-86f88dbe0696"
      },
      "source": [
        "detailedDataWithoutSources['date_confirmation'] = pd.to_datetime(detailedDataWithoutSources['date_confirmation'],\\\n",
        "                                               format='%d.%m.%Y',\\\n",
        "                                               errors='coerce')\n",
        "detailedDataWithoutSources.date_confirmation.describe()"
      ],
      "execution_count": null,
      "outputs": [
        {
          "output_type": "stream",
          "text": [
            "/usr/local/lib/python3.6/dist-packages/ipykernel_launcher.py:2: FutureWarning: Treating datetime data as categorical rather than numeric in `.describe` is deprecated and will be removed in a future version of pandas. Specify `datetime_is_numeric=True` to silence this warning and adopt the future behavior now.\n",
            "  \n"
          ],
          "name": "stderr"
        },
        {
          "output_type": "execute_result",
          "data": {
            "text/plain": [
              "count                  405982\n",
              "unique                    148\n",
              "top       2020-05-29 00:00:00\n",
              "freq                    21234\n",
              "first     2020-01-06 00:00:00\n",
              "last      2020-06-08 00:00:00\n",
              "Name: date_confirmation, dtype: object"
            ]
          },
          "metadata": {
            "tags": []
          },
          "execution_count": 93
        }
      ]
    },
    {
      "cell_type": "markdown",
      "metadata": {
        "id": "3kR9vEEJDRHK"
      },
      "source": [
        "Restrict data as outlined in https://docs.google.com/spreadsheets/d/1zsqkmTL39HeF9mb8bfSQgC2yFuWA6strGnlr0pBCfQc/edit#gid=860764172"
      ]
    },
    {
      "cell_type": "code",
      "metadata": {
        "id": "lyZsQ8CGDWiK",
        "colab": {
          "base_uri": "https://localhost:8080/"
        },
        "outputId": "d7377d09-2d2e-4a4b-bd84-6ab87f824526"
      },
      "source": [
        "canada = detailedDataWithoutSources.loc[detailedDataWithoutSources['country_new'] == 'Canada']\n",
        "print(canada.sort_values(by='date_confirmation')['date_confirmation'].head)\n",
        "print(\"canada total cases: \" + str(canada.shape[0]))"
      ],
      "execution_count": null,
      "outputs": [
        {
          "output_type": "stream",
          "text": [
            "<bound method NDFrame.head of 4334     2020-01-25\n",
            "637804   2020-01-25\n",
            "657536   2020-01-27\n",
            "7557     2020-01-27\n",
            "658592   2020-01-29\n",
            "            ...    \n",
            "671354   2020-03-19\n",
            "671355   2020-03-19\n",
            "671356   2020-03-19\n",
            "671358   2020-03-19\n",
            "33744    2020-03-19\n",
            "Name: date_confirmation, Length: 560, dtype: datetime64[ns]>\n",
            "canada total cases: 560\n"
          ],
          "name": "stdout"
        }
      ]
    },
    {
      "cell_type": "code",
      "metadata": {
        "id": "t6gtQiZENBBJ",
        "colab": {
          "base_uri": "https://localhost:8080/"
        },
        "outputId": "3dd8d71f-d0d5-465c-d51e-fe8a5a54b97e"
      },
      "source": [
        "china = detailedDataWithoutSources.loc[detailedDataWithoutSources['country_new'] == 'China']\n",
        "print(\"china total cases: \" + str(china.shape[0]))"
      ],
      "execution_count": null,
      "outputs": [
        {
          "output_type": "stream",
          "text": [
            "china total cases: 1888\n"
          ],
          "name": "stdout"
        }
      ]
    },
    {
      "cell_type": "code",
      "metadata": {
        "id": "_dJGTojENMiQ",
        "colab": {
          "base_uri": "https://localhost:8080/"
        },
        "outputId": "38603bce-8a0d-40dc-c0d8-c06feb332aed"
      },
      "source": [
        "colombia = detailedDataWithoutSources.loc[detailedDataWithoutSources['country_new'] == 'Colombia']\n",
        "print(colombia.sort_values(by='date_confirmation')['date_confirmation'].head)\n",
        "print(\"colombia total cases: \" + str(colombia.shape[0]))"
      ],
      "execution_count": null,
      "outputs": [
        {
          "output_type": "stream",
          "text": [
            "<bound method NDFrame.head of 8443     2020-03-06\n",
            "613966   2020-03-20\n",
            "614180   2020-03-23\n",
            "614241   2020-03-24\n",
            "Name: date_confirmation, dtype: datetime64[ns]>\n",
            "colombia total cases: 4\n"
          ],
          "name": "stdout"
        }
      ]
    },
    {
      "cell_type": "code",
      "metadata": {
        "id": "lfL-tM4ZNs9O",
        "colab": {
          "base_uri": "https://localhost:8080/"
        },
        "outputId": "25bb7b17-4e60-4d58-e872-e473fa0d5ae2"
      },
      "source": [
        "cuba = detailedDataWithoutSources.loc[detailedDataWithoutSources['country_new'] == 'Cuba']\n",
        "print(cuba.sort_values(by='date_confirmation')['date_confirmation'].head)\n",
        "print(\"cuba total cases: \" + str(cuba.shape[0]))"
      ],
      "execution_count": null,
      "outputs": [
        {
          "output_type": "stream",
          "text": [
            "<bound method NDFrame.head of 17011    2020-03-11\n",
            "17012    2020-03-11\n",
            "17013    2020-03-11\n",
            "614338   2020-03-11\n",
            "614339   2020-03-11\n",
            "            ...    \n",
            "616264   2020-05-09\n",
            "616263   2020-05-09\n",
            "616273   2020-05-09\n",
            "616268   2020-05-09\n",
            "616274   2020-05-09\n",
            "Name: date_confirmation, Length: 1746, dtype: datetime64[ns]>\n",
            "cuba total cases: 1746\n"
          ],
          "name": "stdout"
        }
      ]
    },
    {
      "cell_type": "code",
      "metadata": {
        "id": "TDmlds-fOZo7",
        "colab": {
          "base_uri": "https://localhost:8080/"
        },
        "outputId": "02d94f16-a608-4c14-fca2-631430d95f37"
      },
      "source": [
        "czech = detailedDataWithoutSources.loc[detailedDataWithoutSources['country_new'] == 'Czech Republic']\n",
        "print(czech.sort_values(by='date_confirmation')['date_confirmation'].head)\n",
        "print(\"czech total cases: \" + str(czech.shape[0]))"
      ],
      "execution_count": null,
      "outputs": [
        {
          "output_type": "stream",
          "text": [
            "<bound method NDFrame.head of 901854   2020-02-29\n",
            "905604   2020-02-29\n",
            "905861   2020-02-29\n",
            "905847   2020-03-01\n",
            "3866     2020-03-02\n",
            "            ...    \n",
            "939498   2020-05-28\n",
            "939814   2020-05-28\n",
            "939313   2020-05-28\n",
            "939199   2020-05-28\n",
            "939785   2020-05-28\n",
            "Name: date_confirmation, Length: 8895, dtype: datetime64[ns]>\n",
            "czech total cases: 8895\n"
          ],
          "name": "stdout"
        }
      ]
    },
    {
      "cell_type": "code",
      "metadata": {
        "id": "lxQyPpzzOq4c",
        "colab": {
          "base_uri": "https://localhost:8080/"
        },
        "outputId": "dc0d5126-8e66-4d74-c076-b20d1fb6cbc0"
      },
      "source": [
        "estonia = detailedDataWithoutSources.loc[detailedDataWithoutSources['country_new'] == 'Estonia']\n",
        "print(estonia.sort_values(by='date_confirmation')['date_confirmation'].head)\n",
        "print(\"estonia total cases: \" + str(estonia.shape[0]))\n",
        "estoniaByDate = estonia.loc[estonia['date_confirmation'] <= pd.Timestamp(2020,3,9)]\n",
        "print(\"estoniaByDate cases before 2020-03-09: \" + str(estoniaByDate.shape[0]))"
      ],
      "execution_count": null,
      "outputs": [
        {
          "output_type": "stream",
          "text": [
            "<bound method NDFrame.head of 3467     2020-02-26\n",
            "906126   2020-02-26\n",
            "906195   2020-03-02\n",
            "906191   2020-03-04\n",
            "906183   2020-03-05\n",
            "            ...    \n",
            "945101   2020-06-03\n",
            "945102   2020-06-03\n",
            "945103   2020-06-03\n",
            "945104   2020-06-03\n",
            "945106   2020-06-03\n",
            "Name: date_confirmation, Length: 1865, dtype: datetime64[ns]>\n",
            "estonia total cases: 1865\n",
            "estoniaByDate cases before 2020-03-09: 14\n"
          ],
          "name": "stdout"
        }
      ]
    },
    {
      "cell_type": "code",
      "metadata": {
        "id": "roEoY4bCPljz",
        "colab": {
          "base_uri": "https://localhost:8080/"
        },
        "outputId": "4ea54bc8-9936-4532-ef60-ab9d995dd5b6"
      },
      "source": [
        "germany = detailedDataWithoutSources.loc[detailedDataWithoutSources['country_new'] == 'Germany']\n",
        "print(germany.sort_values(by='date_confirmation')['date_confirmation'].head)\n",
        "print(\"germany total cases: \" + str(germany.shape[0]))\n",
        "germanyByDate = germany.loc[germany['date_confirmation'] <= pd.Timestamp(2020,1,27)]\n",
        "print(\"germanyByDate cases before 2020-01-27: \" + str(germanyByDate.shape[0]))"
      ],
      "execution_count": null,
      "outputs": [
        {
          "output_type": "stream",
          "text": [
            "<bound method NDFrame.head of 4890     2020-01-27\n",
            "12132    2020-01-28\n",
            "12121    2020-01-28\n",
            "12143    2020-01-28\n",
            "36108    2020-01-30\n",
            "            ...    \n",
            "943759   2020-06-02\n",
            "943758   2020-06-02\n",
            "942899   2020-06-02\n",
            "850341   2020-06-02\n",
            "942942   2020-06-02\n",
            "Name: date_confirmation, Length: 24479, dtype: datetime64[ns]>\n",
            "germany total cases: 24479\n",
            "germanyByDate cases before 2020-01-27: 1\n"
          ],
          "name": "stdout"
        }
      ]
    },
    {
      "cell_type": "code",
      "metadata": {
        "id": "3mR4uks_P1Oa",
        "colab": {
          "base_uri": "https://localhost:8080/"
        },
        "outputId": "21e9856f-dff3-4a37-e656-4b7695dee516"
      },
      "source": [
        "india = detailedDataWithoutSources.loc[detailedDataWithoutSources['country_new'] == 'India']\n",
        "print(india.sort_values(by='date_confirmation')['date_confirmation'].head)\n",
        "print(\"india total cases: \" + str(india.shape[0]))"
      ],
      "execution_count": null,
      "outputs": [
        {
          "output_type": "stream",
          "text": [
            "<bound method NDFrame.head of 243161   2020-01-30\n",
            "243172   2020-02-02\n",
            "243183   2020-02-03\n",
            "243194   2020-03-02\n",
            "243205   2020-03-02\n",
            "            ...    \n",
            "381743   2020-06-01\n",
            "381742   2020-06-01\n",
            "381741   2020-06-01\n",
            "381754   2020-06-01\n",
            "455098   2020-06-01\n",
            "Name: date_confirmation, Length: 273639, dtype: datetime64[ns]>\n",
            "india total cases: 273639\n"
          ],
          "name": "stdout"
        }
      ]
    },
    {
      "cell_type": "code",
      "metadata": {
        "id": "yUBKVe7rQDhW",
        "colab": {
          "base_uri": "https://localhost:8080/"
        },
        "outputId": "8df2e549-82e8-4efb-ce26-9a2a64ae1c8a"
      },
      "source": [
        "japan = detailedDataWithoutSources.loc[detailedDataWithoutSources['country_new'] == 'Japan']\n",
        "print(japan.sort_values(by='date_confirmation')['date_confirmation'].head)\n",
        "print(\"japan total cases: \" + str(japan.shape[0]))\n",
        "japanByDate = japan.loc[japan['date_confirmation'] <= pd.Timestamp(2020,1,23)]\n",
        "print(\"japanByDate cases before 2020-01-23: \" + str(japanByDate.shape[0]))"
      ],
      "execution_count": null,
      "outputs": [
        {
          "output_type": "stream",
          "text": [
            "<bound method NDFrame.head of 3779     2020-01-15\n",
            "19963    2020-01-16\n",
            "343716   2020-01-16\n",
            "3668     2020-01-24\n",
            "43262    2020-01-25\n",
            "            ...    \n",
            "226604   2020-03-06\n",
            "226826   2020-03-06\n",
            "227159   2020-03-06\n",
            "224937   2020-03-06\n",
            "12592    2020-03-06\n",
            "Name: date_confirmation, Length: 636, dtype: datetime64[ns]>\n",
            "japan total cases: 636\n",
            "japanByDate cases before 2020-01-23: 3\n"
          ],
          "name": "stdout"
        }
      ]
    },
    {
      "cell_type": "code",
      "metadata": {
        "id": "Xu6kOmunRU-_",
        "colab": {
          "base_uri": "https://localhost:8080/"
        },
        "outputId": "ad05ecd3-25d5-4cf1-be13-8ec7b635c244"
      },
      "source": [
        "malaysia = detailedDataWithoutSources.loc[detailedDataWithoutSources['country_new'] == 'Malaysia']\n",
        "print(malaysia.sort_values(by='date_confirmation')['date_confirmation'].head)\n",
        "print(\"malaysia total cases: \" + str(malaysia.shape[0]))"
      ],
      "execution_count": null,
      "outputs": [
        {
          "output_type": "stream",
          "text": [
            "<bound method NDFrame.head of 43273    2020-01-25\n",
            "4112     2020-01-25\n",
            "43297    2020-01-25\n",
            "43286    2020-01-25\n",
            "344049   2020-01-29\n",
            "5112     2020-01-29\n",
            "19985    2020-01-29\n",
            "343938   2020-01-29\n",
            "410198   2020-01-30\n",
            "38832    2020-01-30\n",
            "421796   2020-02-03\n",
            "421785   2020-02-03\n",
            "6223     2020-02-03\n",
            "39976    2020-02-03\n",
            "441341   2020-02-05\n",
            "41912    2020-02-05\n",
            "41911    2020-02-05\n",
            "441330   2020-02-05\n",
            "134249   2020-02-09\n",
            "135416   2020-02-09\n",
            "1162     2020-02-09\n",
            "1062     2020-02-09\n",
            "135116   2020-02-13\n",
            "1149     2020-02-13\n",
            "135449   2020-02-15\n",
            "135460   2020-02-15\n",
            "1166     2020-02-15\n",
            "1165     2020-02-15\n",
            "Name: date_confirmation, dtype: datetime64[ns]>\n",
            "malaysia total cases: 28\n"
          ],
          "name": "stdout"
        }
      ]
    },
    {
      "cell_type": "code",
      "metadata": {
        "id": "UlqzvJMcRiAj",
        "colab": {
          "base_uri": "https://localhost:8080/"
        },
        "outputId": "655d86b9-1147-4a05-c0e7-d28456a0e285"
      },
      "source": [
        "mexico = detailedDataWithoutSources.loc[detailedDataWithoutSources['country_new'] == 'Mexico']\n",
        "print(mexico.sort_values(by='date_confirmation')['date_confirmation'].head)\n",
        "print(\"mexico total cases: \" + str(mexico.shape[0]))\n",
        "mexicoByDate = mexico.loc[mexico['date_confirmation'] <= pd.Timestamp(2020,3,25)]\n",
        "print(\"mexicoByDate cases before 2020-03-25: \" + str(mexicoByDate.shape[0]))"
      ],
      "execution_count": null,
      "outputs": [
        {
          "output_type": "stream",
          "text": [
            "<bound method NDFrame.head of 3703     2020-02-28\n",
            "585091   2020-02-28\n",
            "585209   2020-03-25\n",
            "585210   2020-03-25\n",
            "585211   2020-03-25\n",
            "            ...    \n",
            "584901   2020-04-05\n",
            "584902   2020-04-05\n",
            "584904   2020-04-05\n",
            "584884   2020-04-05\n",
            "584912   2020-04-05\n",
            "Name: date_confirmation, Length: 2103, dtype: datetime64[ns]>\n",
            "mexico total cases: 2103\n",
            "mexicoByDate cases before 2020-03-25: 161\n"
          ],
          "name": "stdout"
        }
      ]
    },
    {
      "cell_type": "code",
      "metadata": {
        "id": "kkeywS7LR3ER",
        "colab": {
          "base_uri": "https://localhost:8080/"
        },
        "outputId": "2fee34db-9a48-43e4-e25c-7f38d6df90f9"
      },
      "source": [
        "newzealand = detailedDataWithoutSources.loc[detailedDataWithoutSources['country_new'] == 'New Zealand']\n",
        "print(newzealand.sort_values(by='date_confirmation')['date_confirmation'].head)\n",
        "print(\"newzealand total cases: \" + str(newzealand.shape[0]))"
      ],
      "execution_count": null,
      "outputs": [
        {
          "output_type": "stream",
          "text": [
            "<bound method NDFrame.head of 9205     2020-02-28\n",
            "193571   2020-02-28\n",
            "4971     2020-03-03\n",
            "164304   2020-03-03\n",
            "9203     2020-03-04\n",
            "193549   2020-03-04\n",
            "9204     2020-03-06\n",
            "193560   2020-03-06\n",
            "9202     2020-03-07\n",
            "193538   2020-03-07\n",
            "Name: date_confirmation, dtype: datetime64[ns]>\n",
            "newzealand total cases: 10\n"
          ],
          "name": "stdout"
        }
      ]
    },
    {
      "cell_type": "code",
      "metadata": {
        "id": "yJeb4F-NSAOu",
        "colab": {
          "base_uri": "https://localhost:8080/"
        },
        "outputId": "dec9040d-3400-4a2a-ce89-f7f69d28813b"
      },
      "source": [
        "paraguay = detailedDataWithoutSources.loc[detailedDataWithoutSources['country_new'] == 'Paraguay']\n",
        "print(paraguay.sort_values(by='date_confirmation')['date_confirmation'].head)\n",
        "print(\"paraguay total cases: \" + str(paraguay.shape[0]))"
      ],
      "execution_count": null,
      "outputs": [
        {
          "output_type": "stream",
          "text": [
            "<bound method NDFrame.head of 9367     2020-03-07\n",
            "586078   2020-03-07\n",
            "586079   2020-03-09\n",
            "586089   2020-03-17\n",
            "586104   2020-03-23\n",
            "586105   2020-03-23\n",
            "586106   2020-03-23\n",
            "586107   2020-03-23\n",
            "586108   2020-03-23\n",
            "Name: date_confirmation, dtype: datetime64[ns]>\n",
            "paraguay total cases: 9\n"
          ],
          "name": "stdout"
        }
      ]
    },
    {
      "cell_type": "code",
      "metadata": {
        "id": "zR5g_b59SMX4",
        "colab": {
          "base_uri": "https://localhost:8080/"
        },
        "outputId": "385f2efd-e685-47b3-87d1-a6a9a48ed456"
      },
      "source": [
        "peru = detailedDataWithoutSources.loc[detailedDataWithoutSources['country_new'] == 'Peru']\n",
        "print(peru.sort_values(by='date_confirmation')['date_confirmation'].head)\n",
        "print(\"peru total cases: \" + str(peru.shape[0]))"
      ],
      "execution_count": null,
      "outputs": [
        {
          "output_type": "stream",
          "text": [
            "<bound method NDFrame.head of 9384     2020-03-07\n",
            "9388     2020-03-07\n",
            "586289   2020-03-07\n",
            "586294   2020-03-07\n",
            "Name: date_confirmation, dtype: datetime64[ns]>\n",
            "peru total cases: 4\n"
          ],
          "name": "stdout"
        }
      ]
    },
    {
      "cell_type": "code",
      "metadata": {
        "id": "G-50jCuiSUPc",
        "colab": {
          "base_uri": "https://localhost:8080/"
        },
        "outputId": "6d1d8eec-f4fc-44fe-983d-e3b40dc2144e"
      },
      "source": [
        "philippines = detailedDataWithoutSources.loc[detailedDataWithoutSources['country_new'] == 'Philippines']\n",
        "print(philippines.sort_values(by='date_confirmation')['date_confirmation'].head)\n",
        "print(\"philippines total cases: \" + str(philippines.shape[0]))"
      ],
      "execution_count": null,
      "outputs": [
        {
          "output_type": "stream",
          "text": [
            "<bound method NDFrame.head of 5223     2020-01-30\n",
            "384270   2020-01-30\n",
            "14442    2020-02-01\n",
            "410187   2020-02-01\n",
            "6445     2020-02-05\n",
            "            ...    \n",
            "134700   2020-06-08\n",
            "134699   2020-06-08\n",
            "134698   2020-06-08\n",
            "134696   2020-06-08\n",
            "134676   2020-06-08\n",
            "Name: date_confirmation, Length: 11400, dtype: datetime64[ns]>\n",
            "philippines total cases: 11400\n"
          ],
          "name": "stdout"
        }
      ]
    },
    {
      "cell_type": "code",
      "metadata": {
        "id": "sPy44u2MSdno",
        "colab": {
          "base_uri": "https://localhost:8080/"
        },
        "outputId": "01c7ec9f-e916-4220-a677-8f7c7da850fb"
      },
      "source": [
        "romania = detailedDataWithoutSources.loc[detailedDataWithoutSources['country_new'] == 'Romania']\n",
        "print(romania.sort_values(by='date_confirmation')['date_confirmation'].head)\n",
        "print(\"romania total cases: \" + str(romania.shape[0]))"
      ],
      "execution_count": null,
      "outputs": [
        {
          "output_type": "stream",
          "text": [
            "<bound method NDFrame.head of 2009     2020-02-25\n",
            "510833   2020-02-25\n",
            "3484     2020-02-28\n",
            "3485     2020-02-28\n",
            "510834   2020-02-28\n",
            "510835   2020-02-28\n",
            "4973     2020-03-03\n",
            "510836   2020-03-03\n",
            "516487   2020-03-04\n",
            "516486   2020-03-04\n",
            "516490   2020-03-06\n",
            "516489   2020-03-06\n",
            "516488   2020-03-06\n",
            "516492   2020-03-07\n",
            "516491   2020-03-07\n",
            "510837   2020-03-07\n",
            "510839   2020-03-07\n",
            "516494   2020-03-07\n",
            "9395     2020-03-07\n",
            "9366     2020-03-07\n",
            "516495   2020-03-07\n",
            "510840   2020-03-09\n",
            "10520    2020-03-09\n",
            "10519    2020-03-09\n",
            "510841   2020-03-09\n",
            "Name: date_confirmation, dtype: datetime64[ns]>\n",
            "romania total cases: 25\n"
          ],
          "name": "stdout"
        }
      ]
    },
    {
      "cell_type": "code",
      "metadata": {
        "id": "5jRt_DB4SsbF",
        "colab": {
          "base_uri": "https://localhost:8080/"
        },
        "outputId": "fe08e02d-414e-43b9-f3ff-062b7fa83a0f"
      },
      "source": [
        "southAfrica = detailedDataWithoutSources.loc[detailedDataWithoutSources['country_new'] == 'South Africa']\n",
        "print(southAfrica.sort_values(by='date_confirmation')['date_confirmation'].head)\n",
        "print(\"southAfrica total cases: \" + str(southAfrica.shape[0]))"
      ],
      "execution_count": null,
      "outputs": [
        {
          "output_type": "stream",
          "text": [
            "<bound method NDFrame.head of 5426    2020-03-05\n",
            "66025   2020-03-05\n",
            "68458   2020-03-07\n",
            "68470   2020-03-08\n",
            "68481   2020-03-09\n",
            "           ...    \n",
            "71236   2020-03-22\n",
            "71248   2020-03-22\n",
            "71259   2020-03-22\n",
            "71181   2020-03-22\n",
            "71481   2020-03-22\n",
            "Name: date_confirmation, Length: 275, dtype: datetime64[ns]>\n",
            "southAfrica total cases: 275\n"
          ],
          "name": "stdout"
        }
      ]
    },
    {
      "cell_type": "code",
      "metadata": {
        "id": "irT0-JdJS1R5",
        "colab": {
          "base_uri": "https://localhost:8080/"
        },
        "outputId": "c0f5316d-a926-45b5-aceb-51a6a138a044"
      },
      "source": [
        "southKorea = detailedDataWithoutSources.loc[detailedDataWithoutSources['country_new'] == 'South Korea']\n",
        "print(southKorea.sort_values(by='date_confirmation')['date_confirmation'].head)\n",
        "print(\"southKorea total cases: \" + str(southKorea.shape[0]))\n",
        "southKoreaByDate = southKorea.loc[southKorea['date_confirmation'] <= pd.Timestamp(2020,1,19)]\n",
        "print(\"southKoreaByDate cases before 2020-01-19: \" + str(southKoreaByDate.shape[0]))"
      ],
      "execution_count": null,
      "outputs": [
        {
          "output_type": "stream",
          "text": [
            "<bound method NDFrame.head of 9334     2020-01-06\n",
            "140460   2020-01-06\n",
            "43330    2020-01-20\n",
            "35551    2020-01-24\n",
            "43541    2020-01-26\n",
            "            ...    \n",
            "420296   2020-03-12\n",
            "420629   2020-03-12\n",
            "420851   2020-03-12\n",
            "11319    2020-03-12\n",
            "11292    2020-03-12\n",
            "Name: date_confirmation, Length: 288, dtype: datetime64[ns]>\n",
            "southKorea total cases: 288\n",
            "southKoreaByDate cases before 2020-01-19: 2\n"
          ],
          "name": "stdout"
        }
      ]
    },
    {
      "cell_type": "code",
      "metadata": {
        "id": "fymLP7jhTMEN",
        "colab": {
          "base_uri": "https://localhost:8080/"
        },
        "outputId": "fa366465-e78c-40c7-bfe3-1747182e9d48"
      },
      "source": [
        "sriLanka = detailedDataWithoutSources.loc[detailedDataWithoutSources['country_new'] == 'Sri Lanka']\n",
        "print(sriLanka.sort_values(by='date_confirmation')['date_confirmation'].head)\n",
        "print(\"sriLanka total cases: \" + str(sriLanka.shape[0]))"
      ],
      "execution_count": null,
      "outputs": [
        {
          "output_type": "stream",
          "text": [
            "<bound method NDFrame.head of 7545     2020-01-27\n",
            "190826   2020-01-27\n",
            "Name: date_confirmation, dtype: datetime64[ns]>\n",
            "sriLanka total cases: 2\n"
          ],
          "name": "stdout"
        }
      ]
    },
    {
      "cell_type": "code",
      "metadata": {
        "id": "ybjAmKNeTWOd",
        "colab": {
          "base_uri": "https://localhost:8080/"
        },
        "outputId": "5da821ff-ca27-4c22-d8ac-8f97f4d7a2d5"
      },
      "source": [
        "switzerland = detailedDataWithoutSources.loc[detailedDataWithoutSources['country_new'] == 'Switzerland']\n",
        "print(switzerland.sort_values(by='date_confirmation')['date_confirmation'].head)\n",
        "print(\"switzerland total cases: \" + str(switzerland.shape[0]))\n",
        "switzerlandByDate = switzerland.loc[switzerland['date_confirmation'] <= pd.Timestamp(2020,2,26)]\n",
        "print(\"switzerlandByDate cases before 2020-02-26: \" + str(switzerlandByDate.shape[0]))"
      ],
      "execution_count": null,
      "outputs": [
        {
          "output_type": "stream",
          "text": [
            "<bound method NDFrame.head of 36027   2020-02-02\n",
            "2112    2020-02-25\n",
            "35635   2020-02-26\n",
            "3455    2020-02-26\n",
            "36026   2020-02-27\n",
            "           ...    \n",
            "36111          NaT\n",
            "36112          NaT\n",
            "36113          NaT\n",
            "36114          NaT\n",
            "36115          NaT\n",
            "Name: date_confirmation, Length: 131, dtype: datetime64[ns]>\n",
            "switzerland total cases: 131\n",
            "switzerlandByDate cases before 2020-02-26: 4\n"
          ],
          "name": "stdout"
        }
      ]
    },
    {
      "cell_type": "code",
      "metadata": {
        "id": "CvPu23h8TpHl",
        "colab": {
          "base_uri": "https://localhost:8080/"
        },
        "outputId": "8c345786-a312-440b-882d-7c78427930cc"
      },
      "source": [
        "thailand = detailedDataWithoutSources.loc[detailedDataWithoutSources['country_new'] == 'Thailand']\n",
        "print(thailand.sort_values(by='date_confirmation')['date_confirmation'].head)\n",
        "print(\"thailand total cases: \" + str(thailand.shape[0]))"
      ],
      "execution_count": null,
      "outputs": [
        {
          "output_type": "stream",
          "text": [
            "<bound method NDFrame.head of 444518   2020-01-12\n",
            "43397    2020-01-12\n",
            "43408    2020-01-17\n",
            "43385    2020-01-22\n",
            "43374    2020-01-22\n",
            "43419    2020-01-24\n",
            "43508    2020-01-25\n",
            "401976   2020-01-31\n",
            "36152    2020-01-31\n",
            "421940   2020-02-03\n",
            "39981    2020-02-03\n",
            "39983    2020-02-03\n",
            "39984    2020-02-03\n",
            "39985    2020-02-03\n",
            "39987    2020-02-03\n",
            "421951   2020-02-03\n",
            "421963   2020-02-03\n",
            "421918   2020-02-03\n",
            "421974   2020-02-03\n",
            "128571   2020-02-08\n",
            "128560   2020-02-08\n",
            "495      2020-02-08\n",
            "496      2020-02-08\n",
            "2564     2020-02-11\n",
            "148349   2020-02-11\n",
            "1167     2020-02-15\n",
            "135471   2020-02-15\n",
            "1181     2020-02-17\n",
            "135694   2020-02-17\n",
            "2571     2020-02-25\n",
            "148416   2020-02-25\n",
            "2570     2020-02-25\n",
            "148405   2020-02-25\n",
            "148360   2020-02-26\n",
            "148371   2020-02-26\n",
            "148383   2020-02-26\n",
            "2567     2020-02-26\n",
            "2566     2020-02-26\n",
            "2565     2020-02-26\n",
            "153406   2020-03-02\n",
            "3753     2020-03-02\n",
            "Name: date_confirmation, dtype: datetime64[ns]>\n",
            "thailand total cases: 41\n"
          ],
          "name": "stdout"
        }
      ]
    },
    {
      "cell_type": "code",
      "metadata": {
        "id": "qHvR_w6lvstg",
        "colab": {
          "base_uri": "https://localhost:8080/"
        },
        "outputId": "1194afe3-7c5c-4e64-d5dc-01344b856bab"
      },
      "source": [
        "validDataWithoutADI = detailedDataWithoutSources.loc[~detailedDataWithoutSources['country_new'].isin(['Argentina', 'Brazil', 'Canada', 'Colombia', 'Cuba', 'Czech Republic', 'Estonia', 'Germany', 'Honduras', 'India', 'Japan', 'Malaysia', 'Mexico', 'New Zealand', 'Paraguay', 'Peru', 'Philippines', 'Romania', 'Singapore', 'South Africa', 'South Korea', 'Sri Lanka', 'Switzerland', 'Thailand', 'Togo', 'Uganda', 'United States', 'United States of America', 'USA'])].copy()\n",
        "print(\"validDataWithoutADI total cases: \" + str(validDataWithoutADI.shape[0]))"
      ],
      "execution_count": null,
      "outputs": [
        {
          "output_type": "stream",
          "text": [
            "validDataWithoutADI total cases: 73456\n"
          ],
          "name": "stdout"
        }
      ]
    },
    {
      "cell_type": "code",
      "metadata": {
        "id": "lmaj5eeNaaLE",
        "colab": {
          "base_uri": "https://localhost:8080/"
        },
        "outputId": "1918c2b4-13d3-4bc1-eb85-8fd00ed89a55"
      },
      "source": [
        "validDataWithCountryNew = validDataWithoutADI.dropna(subset=['country_new']).copy()\n",
        "validDataWithoutCountryNew = validDataWithoutADI[~validDataWithoutADI.country_new.notnull()].copy()\n",
        "print(validDataWithoutCountryNew[\"country\"].value_counts())\n",
        "print(\"validDataWithCountryNew total cases: \" + str(validDataWithCountryNew.shape[0]))\n",
        "print(\"validDataWithoutCountryNew total cases: \" + str(validDataWithoutCountryNew.shape[0]))"
      ],
      "execution_count": null,
      "outputs": [
        {
          "output_type": "stream",
          "text": [
            "Philippines    9981\n",
            "Brazil          448\n",
            "Colombia        376\n",
            "Niger            85\n",
            "Bolivia          55\n",
            "Guatemala        40\n",
            "Algeria          27\n",
            "Ghana            15\n",
            "Kazakhstan       14\n",
            "Chile            12\n",
            "Ethiopia         10\n",
            "Zimbabwe          7\n",
            "Namibia           5\n",
            "Gambia            5\n",
            "Guyana            4\n",
            "Nigeria           3\n",
            "Ecuador           2\n",
            "Venezuela         2\n",
            "Argentina         1\n",
            "Ukraine           1\n",
            "Kenya             1\n",
            "Name: country, dtype: int64\n",
            "validDataWithCountryNew total cases: 62317\n",
            "validDataWithoutCountryNew total cases: 11139\n"
          ],
          "name": "stdout"
        }
      ]
    },
    {
      "cell_type": "code",
      "metadata": {
        "id": "sFNfxgRnqQac"
      },
      "source": [
        "\n",
        "validDataWithCountryNew['date_confirmation'] = validDataWithCountryNew['date_confirmation'].dt.strftime(\"%d.%m.%Y\").copy()\n",
        "validDataWithConfirmationDate = validDataWithCountryNew.dropna(subset=['date_confirmation']).copy()"
      ],
      "execution_count": null,
      "outputs": []
    },
    {
      "cell_type": "code",
      "metadata": {
        "id": "d5rEQmaDlHc6"
      },
      "source": [
        "finalData = validDataWithCountryNew.copy()"
      ],
      "execution_count": null,
      "outputs": []
    },
    {
      "cell_type": "code",
      "metadata": {
        "id": "YccMQ6EXD3vb",
        "colab": {
          "base_uri": "https://localhost:8080/"
        },
        "outputId": "cd5c01f5-01fc-40ef-a885-182af179112a"
      },
      "source": [
        "sourceCounts = finalData[\"source\"].value_counts()\n",
        "print(\"number of unique sources: \" + str(sourceCounts.shape[0]))"
      ],
      "execution_count": null,
      "outputs": [
        {
          "output_type": "stream",
          "text": [
            "number of unique sources: 877\n"
          ],
          "name": "stdout"
        }
      ]
    },
    {
      "cell_type": "code",
      "metadata": {
        "id": "I7PJNdJ9yEDp",
        "colab": {
          "base_uri": "https://localhost:8080/",
          "height": 17
        },
        "outputId": "f0e79940-81bc-4b03-8c82-2125b34246c7"
      },
      "source": [
        "countryCounts = finalData[\"country_new\"].value_counts()\n",
        "countryCounts.to_csv('countryCounts.csv')\n",
        "files.download('countryCounts.csv')"
      ],
      "execution_count": null,
      "outputs": [
        {
          "output_type": "display_data",
          "data": {
            "application/javascript": [
              "\n",
              "    async function download(id, filename, size) {\n",
              "      if (!google.colab.kernel.accessAllowed) {\n",
              "        return;\n",
              "      }\n",
              "      const div = document.createElement('div');\n",
              "      const label = document.createElement('label');\n",
              "      label.textContent = `Downloading \"${filename}\": `;\n",
              "      div.appendChild(label);\n",
              "      const progress = document.createElement('progress');\n",
              "      progress.max = size;\n",
              "      div.appendChild(progress);\n",
              "      document.body.appendChild(div);\n",
              "\n",
              "      const buffers = [];\n",
              "      let downloaded = 0;\n",
              "\n",
              "      const channel = await google.colab.kernel.comms.open(id);\n",
              "      // Send a message to notify the kernel that we're ready.\n",
              "      channel.send({})\n",
              "\n",
              "      for await (const message of channel.messages) {\n",
              "        // Send a message to notify the kernel that we're ready.\n",
              "        channel.send({})\n",
              "        if (message.buffers) {\n",
              "          for (const buffer of message.buffers) {\n",
              "            buffers.push(buffer);\n",
              "            downloaded += buffer.byteLength;\n",
              "            progress.value = downloaded;\n",
              "          }\n",
              "        }\n",
              "      }\n",
              "      const blob = new Blob(buffers, {type: 'application/binary'});\n",
              "      const a = document.createElement('a');\n",
              "      a.href = window.URL.createObjectURL(blob);\n",
              "      a.download = filename;\n",
              "      div.appendChild(a);\n",
              "      a.click();\n",
              "      div.remove();\n",
              "    }\n",
              "  "
            ],
            "text/plain": [
              "<IPython.core.display.Javascript object>"
            ]
          },
          "metadata": {
            "tags": []
          }
        },
        {
          "output_type": "display_data",
          "data": {
            "application/javascript": [
              "download(\"download_a4446fcd-6b68-44c8-97bf-07860ac5b85f\", \"countryCounts.csv\", 1292)"
            ],
            "text/plain": [
              "<IPython.core.display.Javascript object>"
            ]
          },
          "metadata": {
            "tags": []
          }
        }
      ]
    },
    {
      "cell_type": "code",
      "metadata": {
        "id": "jOnyzLM2ypZr",
        "colab": {
          "base_uri": "https://localhost:8080/",
          "height": 17
        },
        "outputId": "acc1aaee-bfc5-4eb5-bbfc-5fa85dba0627"
      },
      "source": [
        "finalData.to_csv('finalData.csv', index=False)\n",
        "files.download('finalData.csv')"
      ],
      "execution_count": null,
      "outputs": [
        {
          "output_type": "display_data",
          "data": {
            "application/javascript": [
              "\n",
              "    async function download(id, filename, size) {\n",
              "      if (!google.colab.kernel.accessAllowed) {\n",
              "        return;\n",
              "      }\n",
              "      const div = document.createElement('div');\n",
              "      const label = document.createElement('label');\n",
              "      label.textContent = `Downloading \"${filename}\": `;\n",
              "      div.appendChild(label);\n",
              "      const progress = document.createElement('progress');\n",
              "      progress.max = size;\n",
              "      div.appendChild(progress);\n",
              "      document.body.appendChild(div);\n",
              "\n",
              "      const buffers = [];\n",
              "      let downloaded = 0;\n",
              "\n",
              "      const channel = await google.colab.kernel.comms.open(id);\n",
              "      // Send a message to notify the kernel that we're ready.\n",
              "      channel.send({})\n",
              "\n",
              "      for await (const message of channel.messages) {\n",
              "        // Send a message to notify the kernel that we're ready.\n",
              "        channel.send({})\n",
              "        if (message.buffers) {\n",
              "          for (const buffer of message.buffers) {\n",
              "            buffers.push(buffer);\n",
              "            downloaded += buffer.byteLength;\n",
              "            progress.value = downloaded;\n",
              "          }\n",
              "        }\n",
              "      }\n",
              "      const blob = new Blob(buffers, {type: 'application/binary'});\n",
              "      const a = document.createElement('a');\n",
              "      a.href = window.URL.createObjectURL(blob);\n",
              "      a.download = filename;\n",
              "      div.appendChild(a);\n",
              "      a.click();\n",
              "      div.remove();\n",
              "    }\n",
              "  "
            ],
            "text/plain": [
              "<IPython.core.display.Javascript object>"
            ]
          },
          "metadata": {
            "tags": []
          }
        },
        {
          "output_type": "display_data",
          "data": {
            "application/javascript": [
              "download(\"download_27ba64b7-93cb-4eaa-a719-9bec707df9d5\", \"finalData.csv\", 11980249)"
            ],
            "text/plain": [
              "<IPython.core.display.Javascript object>"
            ]
          },
          "metadata": {
            "tags": []
          }
        }
      ]
    }
  ]
}