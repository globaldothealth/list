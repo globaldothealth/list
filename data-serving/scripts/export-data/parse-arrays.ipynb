{
 "cells": [
  {
   "cell_type": "code",
   "execution_count": 1,
   "metadata": {},
   "outputs": [],
   "source": [
    "import pandas as pd\n",
    "import csv\n",
    "import json\n",
    "from functools import reduce\n",
    "\n",
    "def deep_get(dictionary, keys, default=None):\n",
    "    return reduce(lambda d, key: d.get(key, default) if isinstance(d, dict) else default, keys.split(\".\"), dictionary)\n",
    "\n",
    "def convert_event(event):\n",
    "    suffix = event['name']\n",
    "    col_name = f\"events.{suffix}\"\n",
    "    \n",
    "    return ({\n",
    "        f\"{col_name}.value\": event.get(\"value\"),\n",
    "        f\"{col_name}.date.start\": deep_get(event, \"dateRange.start.$date\"),\n",
    "        f\"{col_name}.date.end\": deep_get(event, \"dateRange.end.$date\")\n",
    "    })\n",
    "\n",
    "def convert_string_list(item):\n",
    "    try:\n",
    "        if (type(item) != str) or (item == ''):\n",
    "            return None\n",
    "        if type(json.loads(item)) == list:\n",
    "            return \", \".join(json.loads(item))\n",
    "        else:\n",
    "            return item\n",
    "    except:\n",
    "        print(item)\n",
    "        \n",
    "def process_chunk(infile, outfile=None):\n",
    "    if not outfile:\n",
    "        outfile = infile[:-4] + \"_processed.csv\"\n",
    "    with open(outfile, 'w+') as g:\n",
    "        with open(infile, 'r') as f:\n",
    "            reader = csv.DictReader(f)\n",
    "            writer = csv.DictWriter(g, fieldnames=fields, extrasaction='ignore')\n",
    "            writer.writeheader()\n",
    "            for row in reader:\n",
    "                if \"ObjectId\" not in row['_id']:\n",
    "                    continue\n",
    "                if type(row['notes']) == str:\n",
    "                    row['notes'] = row['notes'].replace('\\n', ', ')\n",
    "                row['notes']\n",
    "                for event in json.loads(row['events']):\n",
    "                    row = row | convert_event(event)\n",
    "                writer.writerow(row)\n",
    "    print(outfile)"
   ]
  },
  {
   "cell_type": "code",
   "execution_count": 2,
   "metadata": {},
   "outputs": [
    {
     "name": "stderr",
     "output_type": "stream",
     "text": [
      "Skipping line 19: unexpected end of data\n"
     ]
    }
   ],
   "source": [
    "df = pd.read_csv('../gh_test.csv', engine='python', error_bad_lines=False)"
   ]
  },
  {
   "cell_type": "code",
   "execution_count": 3,
   "metadata": {},
   "outputs": [],
   "source": [
    "cols_to_add = []\n",
    "for col_name in [\"confirmed\", \"firstClinicalConsultation\", \"hospitalAdmission\", \"icuAdmission\", \"onsetSymptoms\", \"outcome\", \"selfIsolation\"]:\n",
    "    cols_to_add.append(f\"events.{col_name}.value\")\n",
    "    cols_to_add.append(f\"events.{col_name}.date.start\")\n",
    "    cols_to_add.append(f\"events.{col_name}.date.end\")\n",
    "\n",
    "fields = set(df.columns).union(set(cols_to_add))\n",
    "fields = sorted(list(fields - set(['events'])))"
   ]
  },
  {
   "cell_type": "code",
   "execution_count": 4,
   "metadata": {},
   "outputs": [],
   "source": [
    "list_fields = ['caseReference.uploadIds',\n",
    "'demographics.nationalities',\n",
    "'symptoms.values',\n",
    "'preexistingConditions.values',\n",
    "'transmission.linkedCaseIds',\n",
    "'transmission.places',\n",
    "'transmission.routes',\n",
    "'travelHistory.travel.methods']"
   ]
  },
  {
   "cell_type": "code",
   "execution_count": 5,
   "metadata": {},
   "outputs": [],
   "source": [
    "import os"
   ]
  },
  {
   "cell_type": "code",
   "execution_count": 8,
   "metadata": {},
   "outputs": [],
   "source": [
    "process_list = []\n",
    "for file in os.listdir('../test/'):\n",
    "    if file.startswith(\"gh\"):\n",
    "        process_list.append('../test/' + file)"
   ]
  },
  {
   "cell_type": "code",
   "execution_count": 9,
   "metadata": {},
   "outputs": [
    {
     "name": "stdout",
     "output_type": "stream",
     "text": [
      "../test/gh_0_processed.csv\n",
      "../test/gh_1_processed.csv\n",
      "../test/gh_10_processed.csv\n",
      "../test/gh_11_processed.csv\n",
      "../test/gh_12_processed.csv\n",
      "../test/gh_13_processed.csv\n",
      "../test/gh_14_processed.csv\n",
      "../test/gh_15_processed.csv\n",
      "../test/gh_16_processed.csv\n",
      "../test/gh_17_processed.csv\n",
      "../test/gh_18_processed.csv\n",
      "../test/gh_19_processed.csv\n",
      "../test/gh_2_processed.csv\n",
      "../test/gh_20_processed.csv\n",
      "../test/gh_21_processed.csv\n",
      "../test/gh_22_processed.csv\n",
      "../test/gh_23_processed.csv\n",
      "../test/gh_24_processed.csv\n",
      "../test/gh_25_processed.csv\n",
      "../test/gh_26_processed.csv\n",
      "../test/gh_27_processed.csv\n",
      "../test/gh_28_processed.csv\n",
      "../test/gh_29_processed.csv\n",
      "../test/gh_3_processed.csv\n",
      "../test/gh_30_processed.csv\n",
      "../test/gh_31_processed.csv\n",
      "../test/gh_32_processed.csv\n",
      "../test/gh_33_processed.csv\n",
      "../test/gh_34_processed.csv\n",
      "../test/gh_35_processed.csv\n",
      "../test/gh_36_processed.csv\n",
      "../test/gh_37_processed.csv\n",
      "../test/gh_38_processed.csv\n",
      "../test/gh_39_processed.csv\n",
      "../test/gh_4_processed.csv\n",
      "../test/gh_40_processed.csv\n",
      "../test/gh_41_processed.csv\n",
      "../test/gh_42_processed.csv\n",
      "../test/gh_43_processed.csv\n",
      "../test/gh_5_processed.csv\n",
      "../test/gh_6_processed.csv\n",
      "../test/gh_7_processed.csv\n",
      "../test/gh_8_processed.csv\n",
      "../test/gh_9_processed.csv\n"
     ]
    }
   ],
   "source": [
    "for f in process_list:\n",
    "    process_chunk(f)"
   ]
  },
  {
   "cell_type": "code",
   "execution_count": 27,
   "metadata": {},
   "outputs": [],
   "source": [
    "import shutil"
   ]
  },
  {
   "cell_type": "code",
   "execution_count": 28,
   "metadata": {},
   "outputs": [],
   "source": [
    "for file in os.listdir('../'):\n",
    "    if file.endswith(\"processed.csv\"):\n",
    "        shutil.move('../' + file, '../combine/' + file)"
   ]
  },
  {
   "cell_type": "code",
   "execution_count": null,
   "metadata": {},
   "outputs": [],
   "source": []
  }
 ],
 "metadata": {
  "kernelspec": {
   "display_name": "Python 3",
   "language": "python",
   "name": "python3"
  },
  "language_info": {
   "codemirror_mode": {
    "name": "ipython",
    "version": 3
   },
   "file_extension": ".py",
   "mimetype": "text/x-python",
   "name": "python",
   "nbconvert_exporter": "python",
   "pygments_lexer": "ipython3",
   "version": "3.9.0"
  }
 },
 "nbformat": 4,
 "nbformat_minor": 4
}
