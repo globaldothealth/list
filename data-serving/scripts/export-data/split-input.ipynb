{
 "cells": [
  {
   "cell_type": "code",
   "execution_count": 8,
   "metadata": {},
   "outputs": [],
   "source": [
    "import csv\n",
    "import os\n",
    "import sys\n",
    "\n",
    "def split_csv(source_filepath, dest_path, result_filename_prefix, row_limit):\n",
    "    \"\"\"\n",
    "    Split a source CSV into multiple CSVs of equal numbers of records,\n",
    "    except the last file.\n",
    "    The initial file's header row will be included as a header row in each split\n",
    "    file.\n",
    "    Split files follow a zero-index sequential naming convention like so:\n",
    "        `{result_filename_prefix}_0.csv`\n",
    "    :param source_filepath {str}:\n",
    "        File name (including full path) for the file to be split.\n",
    "    :param dest_path {str}:\n",
    "        Full path to the directory where the split files should be saved.\n",
    "    :param result_filename_prefix {str}:\n",
    "        File name to be used for the generated files.\n",
    "        Example: If `my_split_file` is provided as the prefix, then a resulting\n",
    "                 file might be named: `my_split_file_0.csv'\n",
    "    :param row_limit {int}:\n",
    "        Number of rows per file (header row is excluded from the row count).\n",
    "    :return {NoneType}:\n",
    "    \"\"\"\n",
    "    if row_limit <= 0:\n",
    "        raise Exception('row_limit must be > 0')\n",
    "\n",
    "    with open(source_filepath, 'r') as source:\n",
    "        reader = csv.reader(source)\n",
    "        headers = next(reader)\n",
    "\n",
    "        file_number = 0\n",
    "        records_exist = True\n",
    "\n",
    "        while records_exist:\n",
    "\n",
    "            i = 0\n",
    "            target_filename = f'{result_filename_prefix}_{file_number}.csv'\n",
    "            target_filepath = os.path.join(dest_path, target_filename)\n",
    "\n",
    "            with open(target_filepath, 'w') as target:\n",
    "                writer = csv.writer(target)\n",
    "\n",
    "                while i < row_limit:\n",
    "                    if i == 0:\n",
    "                        writer.writerow(headers)\n",
    "\n",
    "                    try:\n",
    "                        writer.writerow(next(reader))\n",
    "                        i += 1\n",
    "                    except:\n",
    "                        records_exist = False\n",
    "                        break\n",
    "\n",
    "            if i == 0:\n",
    "                # we only wrote the header, so delete that file\n",
    "                os.remove(target_filepath)\n",
    "\n",
    "            file_number += 1"
   ]
  },
  {
   "cell_type": "code",
   "execution_count": 10,
   "metadata": {},
   "outputs": [],
   "source": [
    "split_csv('../2021-01-13_globaldothealth-full.csv', '../test/', 'gh', 100000)"
   ]
  },
  {
   "cell_type": "code",
   "execution_count": null,
   "metadata": {},
   "outputs": [],
   "source": []
  }
 ],
 "metadata": {
  "kernelspec": {
   "display_name": "Python 3",
   "language": "python",
   "name": "python3"
  },
  "language_info": {
   "codemirror_mode": {
    "name": "ipython",
    "version": 3
   },
   "file_extension": ".py",
   "mimetype": "text/x-python",
   "name": "python",
   "nbconvert_exporter": "python",
   "pygments_lexer": "ipython3",
   "version": "3.9.0"
  }
 },
 "nbformat": 4,
 "nbformat_minor": 4
}
